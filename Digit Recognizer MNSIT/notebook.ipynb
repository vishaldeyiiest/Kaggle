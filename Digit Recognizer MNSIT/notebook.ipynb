{
  "cells": [
    {
      "metadata": {
        "_uuid": "59f258b3d3726511fb484c58cef4a9b621cec47a",
        "_cell_guid": "b2a7a31e-e578-42a1-b8da-93f371c034e8",
        "trusted": false,
        "collapsed": true
      },
      "cell_type": "code",
      "source": "# This Python 3 environment comes with many helpful analytics libraries installed\n# It is defined by the kaggle/python docker image: https://github.com/kaggle/docker-python\n# For example, here's several helpful packages to load in \n\nimport numpy as np # linear algebra\nimport pandas as pd # data processing, CSV file I/O (e.g. pd.read_csv)\nfrom matplotlib import pyplot as plt\n%matplotlib inline\nfrom sklearn.model_selection import train_test_split\nfrom sklearn.metrics import accuracy_score, confusion_matrix\n\nfrom keras.utils.np_utils import to_categorical\nfrom keras.layers import Activation, add, BatchNormalization, Conv2D, MaxPool2D, Dense, Flatten, Dropout\nfrom keras.models import Sequential\nfrom keras.optimizers import Adam\nfrom keras.preprocessing.image import ImageDataGenerator\nfrom keras.callbacks import LearningRateScheduler\n\n\n# Input data files are available in the \"../input/\" directory.\n# For example, running this (by clicking run or pressing Shift+Enter) will list the files in the input directory\n\nfrom subprocess import check_output\nprint(check_output([\"ls\", \"../input\"]).decode(\"utf8\"))\n\nimport warnings\nwarnings.filterwarnings('ignore')\n# Any results you write to the current directory are saved as output.",
      "execution_count": null,
      "outputs": []
    },
    {
      "metadata": {
        "_uuid": "70adc609cf476a423c880db03a2b9a457855873e",
        "_cell_guid": "19d4bfdc-baa6-4ac3-9ec7-42c96e5f3423",
        "trusted": false,
        "collapsed": true
      },
      "cell_type": "code",
      "source": "train = pd.read_csv('../input/train.csv')\ntest = pd.read_csv('../input/test.csv')\ntrain.head()",
      "execution_count": null,
      "outputs": []
    },
    {
      "metadata": {
        "_uuid": "264fd7a09317c3ac43a8681353296592146960bb",
        "_cell_guid": "8ce5e359-82fb-4730-8eb5-d7c3872bd80a",
        "trusted": false,
        "collapsed": true
      },
      "cell_type": "code",
      "source": "train_X, val_X, train_Y, val_Y = train_test_split(train.iloc[:,1:].values, \n                                                train.iloc[:,0].values, test_size=0.1)",
      "execution_count": null,
      "outputs": []
    },
    {
      "metadata": {
        "_uuid": "58eb875ced67102e14c7ee4b963fc4494c3cc6bc",
        "_cell_guid": "22b52144-1549-4d44-a500-ac03641c0bd5",
        "trusted": false,
        "collapsed": true
      },
      "cell_type": "code",
      "source": "fig, ax = plt.subplots(2, 1, figsize=(12,6))\nax[0].plot(train_X[5])\nax[0].set_title('784x1 data')\nax[1].imshow(train_X[5].reshape(28,28), cmap='gray')\nax[1].set_title('28x28 data')",
      "execution_count": null,
      "outputs": []
    },
    {
      "metadata": {
        "_uuid": "b98b4338b531a3d15017d343323b145a8cb12859",
        "_cell_guid": "06034a81-5774-4a39-90d7-0252e4e7033b",
        "trusted": false,
        "collapsed": true
      },
      "cell_type": "code",
      "source": "# Reshape all data to 28 x 28\ntrain_X, val_X = train_X.reshape(-1, 28, 28, 1), val_X.reshape(-1, 28, 28, 1)\n# Convert to 0-1 range\ntrain_X = train_X.astype(\"float32\")/255.0\nval_X = val_X.astype(\"float32\")/255.0",
      "execution_count": null,
      "outputs": []
    },
    {
      "metadata": {
        "collapsed": true,
        "_uuid": "79f212ab97380f1a3d3b1d800273f20f4fef7ab0",
        "_cell_guid": "76901b8f-7f1e-4fd0-a2f5-beda79d02afc",
        "trusted": false
      },
      "cell_type": "code",
      "source": "# One-hot encoding\ntrain_Y, val_Y = to_categorical(train_Y), to_categorical(val_Y)",
      "execution_count": null,
      "outputs": []
    },
    {
      "metadata": {
        "_uuid": "d64dd895b1932577313132e0e604d88aadc694f2",
        "_cell_guid": "6de7253b-b671-46ce-9f8b-923b6bcb2a3d",
        "trusted": false,
        "collapsed": true
      },
      "cell_type": "code",
      "source": "model = Sequential()\nmodel.add(Conv2D(filters = 16, kernel_size = (3, 3), activation = 'relu', input_shape = (28, 28, 1)))\nmodel.add(BatchNormalization())\nmodel.add(Conv2D(filters = 16, kernel_size = (3, 3), activation='relu'))\nmodel.add(BatchNormalization())\n\nmodel.add(MaxPool2D(strides=(2,2)))\nmodel.add(Dropout(0.25))\n\nmodel.add(Conv2D(filters = 32, kernel_size = (3, 3), activation='relu'))\nmodel.add(BatchNormalization())\nmodel.add(Conv2D(filters = 32, kernel_size = (3, 3), activation='relu'))\nmodel.add(BatchNormalization())\n\nmodel.add(MaxPool2D(strides=(2,2)))\nmodel.add(Dropout(0.25))\n\nmodel.add(Flatten())\nmodel.add(Dense(512, activation='relu'))\nmodel.add(Dropout(0.25))\nmodel.add(Dense(1024, activation='relu'))\nmodel.add(Dropout(0.5))\nmodel.add(Dense(10, activation='softmax'))\n",
      "execution_count": null,
      "outputs": []
    },
    {
      "metadata": {
        "collapsed": true,
        "_uuid": "0dfedb0560b56b4653d4777cebdcd0742d0bbd78",
        "_cell_guid": "aa0374ea-56c3-4627-9932-82c75273c7fe",
        "trusted": false
      },
      "cell_type": "code",
      "source": "# Data augmentation - from adversarial learning- Jacobian\ndatagen = ImageDataGenerator(zoom_range = 0.1,\n                            height_shift_range = 0.1,\n                            width_shift_range = 0.1,\n                            rotation_range = 10, horizontal_flip=True)",
      "execution_count": null,
      "outputs": []
    },
    {
      "metadata": {
        "collapsed": true,
        "_uuid": "c32c95832bb472d5f736f398659a0fa92c9babed",
        "_cell_guid": "f2933934-b016-413a-a284-afc6862d87d6",
        "trusted": false
      },
      "cell_type": "code",
      "source": "model.compile(loss='categorical_crossentropy', optimizer = Adam(lr=1e-4), metrics=[\"accuracy\"])",
      "execution_count": null,
      "outputs": []
    },
    {
      "metadata": {
        "collapsed": true,
        "_uuid": "2dbfca3f8ef4b951b6cef4f6417da7ec98fb64fc",
        "_cell_guid": "a68dbcb3-1851-479d-aed3-6f014b15fbe4",
        "trusted": false
      },
      "cell_type": "code",
      "source": "annealer = LearningRateScheduler(lambda x: 1e-3 * 0.9 ** x)\n",
      "execution_count": null,
      "outputs": []
    },
    {
      "metadata": {
        "_uuid": "b3664ddbe3302e261b1bc28447e7d247db8dec55",
        "_cell_guid": "aab21bf0-fe4e-4e98-9368-c36084b4492e",
        "trusted": false,
        "collapsed": true
      },
      "cell_type": "code",
      "source": "hist = model.fit_generator(datagen.flow(train_X, train_Y, batch_size=16),\n                           steps_per_epoch=500,\n                           epochs=20, #Increase this when not on Kaggle kernel\n                           verbose=2,  #1 for ETA, 0 for silent\n                           validation_data=(val_X, val_Y), #For speed\n                           callbacks=[annealer])",
      "execution_count": null,
      "outputs": []
    },
    {
      "metadata": {
        "_uuid": "124765cf4207fa27f16bb98f66aeac907c02091b",
        "_cell_guid": "19c091e5-e1f0-4bff-8c03-d68e238f8461",
        "trusted": false,
        "collapsed": true
      },
      "cell_type": "code",
      "source": "final_loss, final_acc = model.evaluate(val_X, val_Y)\nprint(\"Final loss: {0:.4f}, final accuracy: {1:.4f}\".format(final_loss, final_acc))\n\n",
      "execution_count": null,
      "outputs": []
    },
    {
      "metadata": {
        "_uuid": "facedce4f349d482f064ef974417db4d76c8b0d4",
        "_cell_guid": "413a4b48-1dde-473f-b92f-c1982bc15a83",
        "trusted": false,
        "collapsed": true
      },
      "cell_type": "code",
      "source": "y_hat = model.predict(val_X)\ny_pred = np.argmax(y_hat, axis=1)\ny_true = np.argmax(val_Y, axis=1)\ncm = confusion_matrix(y_true, y_pred)\nprint(cm)",
      "execution_count": null,
      "outputs": []
    },
    {
      "metadata": {
        "_uuid": "4d34e4c229b0d150450258e210084880409ad3e4",
        "_cell_guid": "f67540db-bd6a-403f-a2c9-b771410a9065",
        "trusted": false,
        "collapsed": true
      },
      "cell_type": "code",
      "source": "test_X[:1].reshape(28, 28, 1)",
      "execution_count": null,
      "outputs": []
    },
    {
      "metadata": {
        "_uuid": "4ffd29a8f3ef84c5550416a71abff02bf30fd622",
        "_cell_guid": "d307b140-de8f-4e82-9b12-1c564df7bcc0",
        "trusted": false,
        "collapsed": true
      },
      "cell_type": "code",
      "source": "mnist_testset = np.loadtxt('../input/test.csv', skiprows=1, dtype='int', delimiter=',')\ntest_X = mnist_testset.astype(\"float32\")\ntest_X = test_X.reshape(-1, 28, 28, 1)/255.\ny_hat = model.predict(test_X, batch_size=64)\ny_pred = np.argmax(y_hat,axis=1)\ny_pred",
      "execution_count": null,
      "outputs": []
    },
    {
      "metadata": {
        "collapsed": true,
        "_uuid": "4e10c5b9760c65dff88cc935adbbf3aeef596805",
        "_cell_guid": "f4387b08-14be-4e60-9732-b77f7ffd9eab",
        "trusted": false
      },
      "cell_type": "code",
      "source": "with open('submission_keras.csv', 'w') as f :\n    f.write('ImageId,Label\\n')\n    for i in range(len(y_pred)) :\n        f.write(\"\".join([str(i+1),',',str(y_pred[i]),'\\n']))",
      "execution_count": null,
      "outputs": []
    }
  ],
  "metadata": {
    "kernelspec": {
      "display_name": "Python 3",
      "language": "python",
      "name": "python3"
    }
  },
  "nbformat": 4,
  "nbformat_minor": 1
}